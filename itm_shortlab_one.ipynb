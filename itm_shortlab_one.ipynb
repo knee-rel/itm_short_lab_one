{
 "cells": [
  {
   "cell_type": "markdown",
   "metadata": {},
   "source": [
    "# 192468\n",
    "# Ibarra\n",
    "# 2 BS ITE"
   ]
  },
  {
   "cell_type": "code",
   "execution_count": 78,
   "metadata": {},
   "outputs": [
    {
     "name": "stdout",
     "output_type": "stream",
     "text": [
      "Enter the amount in US Dollars: 1\n"
     ]
    },
    {
     "data": {
      "text/plain": [
       "'1 US dollar(s) = 50 Philippine Pesos'"
      ]
     },
     "execution_count": 78,
     "metadata": {},
     "output_type": "execute_result"
    }
   ],
   "source": [
    "#Problem 1\n",
    "def dollars_to_pesos(dollars):\n",
    "    user_input = int(input('Enter the amount in US Dollars: '))\n",
    "    usd_to_php = 50 * user_input\n",
    "    return str(user_input) + \" US dollar(s) = \" + str(usd_to_php) + ' Philippine Pesos' \n",
    "\n",
    "dollars_to_pesos(1)"
   ]
  },
  {
   "cell_type": "code",
   "execution_count": 7,
   "metadata": {},
   "outputs": [
    {
     "name": "stdout",
     "output_type": "stream",
     "text": [
      "Enter the first number: 10\n",
      "Enter the second number: 20\n",
      "30\n",
      "10\n",
      "200\n",
      "0\n",
      "10\n"
     ]
    }
   ],
   "source": [
    "#Problem 2\n",
    "a = int(input('Enter the first number: '))\n",
    "b = int(input('Enter the second number: '))\n",
    "first_line = str(a + b)\n",
    "second_line = str(b - a)\n",
    "third_line = str(a * b)\n",
    "fourth_line = str(a // b)\n",
    "fifth_line = str(a % b)\n",
    "lst = [first_line, second_line, third_line, fourth_line, fifth_line]\n",
    "lst = '\\n'.join(lst)\n",
    "print(lst)"
   ]
  },
  {
   "cell_type": "code",
   "execution_count": 134,
   "metadata": {},
   "outputs": [
    {
     "data": {
      "text/plain": [
       "'BMI: 22.892819979188342'"
      ]
     },
     "execution_count": 134,
     "metadata": {},
     "output_type": "execute_result"
    }
   ],
   "source": [
    "#Problem 3\n",
    "\n",
    "def convert_cm_to_m(cm):\n",
    "    convert = cm * 100\n",
    "    return 'cm to m' + str(convert)\n",
    "\n",
    "def compute_bmi(kg, m):\n",
    "    result_bmi = kg / (m ** 2) \n",
    "    return 'BMI: ' + str(result_bmi)\n",
    "\n",
    "\n",
    "#test data\n",
    "convert_cm_to_m(155)\n",
    "compute_bmi(55, 1.55)"
   ]
  }
 ],
 "metadata": {
  "kernelspec": {
   "display_name": "Python 3",
   "language": "python",
   "name": "python3"
  },
  "language_info": {
   "codemirror_mode": {
    "name": "ipython",
    "version": 3
   },
   "file_extension": ".py",
   "mimetype": "text/x-python",
   "name": "python",
   "nbconvert_exporter": "python",
   "pygments_lexer": "ipython3",
   "version": "3.8.5"
  }
 },
 "nbformat": 4,
 "nbformat_minor": 4
}
